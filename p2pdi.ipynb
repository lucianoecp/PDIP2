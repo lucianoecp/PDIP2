{
 "metadata": {
  "language_info": {
   "codemirror_mode": {
    "name": "ipython",
    "version": 3
   },
   "file_extension": ".py",
   "mimetype": "text/x-python",
   "name": "python",
   "nbconvert_exporter": "python",
   "pygments_lexer": "ipython3",
   "version": "3.8.5-final"
  },
  "orig_nbformat": 2,
  "kernelspec": {
   "name": "python3",
   "display_name": "Python 3"
  }
 },
 "nbformat": 4,
 "nbformat_minor": 2,
 "cells": [
  {
   "source": [
    "UNIVERSIDADE ESTADUAL DO MARANHÃO\n",
    "\n",
    "CURSO DE ENGENHARIA DA COMPUTAÇÃO - BACHARELADO\n",
    "\n",
    "PROCESSAMENTO DIGITAL DE IMAGENS E RECONHECIMENTO DE PADRÕES\n",
    "\n",
    "PROF. DR. LUCIO FLAVIO DE ALBUQUERQUE CAMPOS\n",
    "\n",
    "AUTORES:    \n",
    ">JULIO VICTOR CASTRO CARVALHO DE ARAUJO - 20180000120\n",
    "\n",
    ">LUCIANO SILVA DE ARRUDA - 20190086352\n",
    "\n",
    "\n",
    "#### SEGUNDA AVALIAÇÃO (01/03/2021)"
   ],
   "cell_type": "markdown",
   "metadata": {}
  },
  {
   "source": [
    "[01.] Elabore um algoritmo de detecção de círculos utilizando a Tranformada de Hough. A\n",
    "imagem (autoral) de entrada deve possuir no mínimo 5 objetos circulares, de diâmetros\n",
    "diferentes.\n"
   ],
   "cell_type": "markdown",
   "metadata": {}
  },
  {
   "cell_type": "code",
   "execution_count": null,
   "metadata": {},
   "outputs": [],
   "source": [
    "# Pacotes utilizados:\n",
    "import os\n",
    "import cv2\n",
    "import numpy as np\n",
    "from matplotlib import pyplot as plt\n",
    "\n",
    "img = cv2.imread('teste\\\\BouncingBalls.png') \n",
    " \n",
    "gray = cv2.cvtColor(img, cv2.COLOR_BGR2GRAY)\n",
    "\n",
    "gray_blurred = cv2.blur(gray, (3, 3))\n",
    "\n",
    "detected_circles = cv2.HoughCircles(gray_blurred, \n",
    "\t\t\t\tcv2.HOUGH_GRADIENT, 1, 20, param1 = 50, \n",
    "\t\t\tparam2 = 30, minRadius = 1, maxRadius = 50) \n",
    "\n",
    "if detected_circles is not None: \n",
    "\n",
    "    detected_circles = np.uint16(np.around(detected_circles)) \n",
    "    \n",
    "    for pt in detected_circles[0, :]: \n",
    "        a, b, r = pt[0], pt[1], pt[2] \n",
    "\n",
    "        cv2.circle(img, (a, b), r, (0, 255, 0), 2) \n",
    "\n",
    "        cv2.circle(img, (a, b), 1, (0, 0, 255), 3)\n",
    "\n",
    "plt.imshow(cv2.cvtColor(img, cv2.COLOR_BGR2RGB))\n",
    "plt.show()\n"
   ]
  },
  {
   "source": [
    "[02.] Elabora um algoritmo de classificação de frutas (apenas duas), através dos momentos\n",
    "inerciais e de máquinas de vetores de suporte, com no mínimo, 75% de acurácia. Os\n",
    "passos para a determinada tarefa são os seguintes:\n"
   ],
   "cell_type": "markdown",
   "metadata": {}
  },
  {
   "source": [
    "[a.] Fazer um banco de 100 imagens (50 de cada fruta);"
   ],
   "cell_type": "markdown",
   "metadata": {}
  },
  {
   "cell_type": "code",
   "execution_count": 60,
   "metadata": {},
   "outputs": [
    {
     "output_type": "execute_result",
     "data": {
      "text/plain": [
       "100"
      ]
     },
     "metadata": {},
     "execution_count": 60
    }
   ],
   "source": [
    "dir = 'C:\\\\projetos\\\\PDI'\n",
    "\n",
    "frutas = ['morango', 'cacau']\n",
    "\n",
    "x_image = []\n",
    "y_label = []\n",
    "Mm = []\n",
    "\n",
    "def preprocessamento(img, tam=150):\n",
    "    b,g,r = cv2.split(img)\n",
    "    resized = cv2.resize(g, (tam, tam))\n",
    "\n",
    "    return resized\n",
    "\n",
    "\n",
    "for fruta in frutas:\n",
    "    filepath = os.path.join(dir, fruta)\n",
    "    for file in os.listdir(filepath):\n",
    "        filename = os.path.join(filepath, file)\n",
    "        #print(filename)\n",
    "        image = cv2.imread(filename)\n",
    "        prep  = preprocessamento(image, 150)\n",
    "        DM = (cv2.moments(prep))\n",
    "        M  = [momento for momento in DM.items()]\n",
    "        Mm.append(DM)\n",
    "        #print(M.shape)\n",
    "        K = [k for k in DM.keys()]\n",
    "        x_image.append(M)\n",
    "        y_label.append(fruta)\n",
    "        continue\n",
    "    continue\n",
    "    break\n",
    "x_image_n = np.array(x_image)\n",
    "len(x_image)"
   ]
  },
  {
   "cell_type": "code",
   "execution_count": 61,
   "metadata": {},
   "outputs": [
    {
     "output_type": "stream",
     "name": "stdout",
     "text": [
      "[[ 0.00000000e+00  4.36970900e+06  3.32728903e+08 ...  3.47840774e-07\n  -1.67803504e-07  1.49794894e-06]\n [ 1.00000000e+00  4.05094400e+06  3.04535120e+08 ...  8.90008524e-07\n  -1.71776702e-07  1.57995201e-06]\n [ 2.00000000e+00  3.54327300e+06  2.54899348e+08 ...  3.70478193e-07\n   6.81726671e-07  2.97763797e-06]\n ...\n [ 9.70000000e+01  1.93821700e+06  1.59936182e+08 ... -9.17251763e-07\n  -2.52544884e-06  2.38635884e-06]\n [ 9.80000000e+01  2.29019400e+06  1.77594426e+08 ... -1.49624631e-06\n   1.06779390e-06  3.58738968e-06]\n [ 9.90000000e+01  4.12777600e+06  3.08446560e+08 ...  4.02416121e-07\n  -7.26805306e-08  1.18093271e-06]]\n<class 'numpy.ndarray'>\n"
     ]
    },
    {
     "output_type": "execute_result",
     "data": {
      "text/plain": [
       "(100, 25)"
      ]
     },
     "metadata": {},
     "execution_count": 61
    }
   ],
   "source": [
    "import pandas as pd\n",
    "\n",
    "df = pd.DataFrame(data=Mm)\n",
    "data=df.reset_index().values\n",
    "print(data) \n",
    "print(type(data))\n",
    "data.shape"
   ]
  },
  {
   "source": [
    "[b.] Extrair apenas o canal verde, e calcular os 24 momentos inerciais;"
   ],
   "cell_type": "markdown",
   "metadata": {}
  },
  {
   "cell_type": "code",
   "execution_count": null,
   "metadata": {},
   "outputs": [],
   "source": []
  },
  {
   "source": [
    "[c.] Gerar uma matriz, de dimensão 100x25, onde o numero de linhas é o número\n",
    "de amostras, e o numero de colunas, o numero de carateristicas (24) e o rótulo\n",
    "(1);  "
   ],
   "cell_type": "markdown",
   "metadata": {}
  },
  {
   "cell_type": "code",
   "execution_count": null,
   "metadata": {},
   "outputs": [],
   "source": []
  },
  {
   "source": [
    "[d.] Usar o classificador SVM em anexo, para realizar a classificação, e a métrica de\n",
    "desempenho."
   ],
   "cell_type": "markdown",
   "metadata": {}
  },
  {
   "cell_type": "code",
   "execution_count": null,
   "metadata": {},
   "outputs": [],
   "source": [
    "# Pacotes utilizados:\n",
    "from sklearn import datasets\n",
    "from sklearn.model_selection import train_test_split\n",
    "from sklearn import svm\n",
    "from sklearn import metrics\n",
    "\n"
   ]
  },
  {
   "cell_type": "code",
   "execution_count": null,
   "metadata": {},
   "outputs": [],
   "source": [
    "#Dividindo o Dataset em Treino e teste\n",
    " \n",
    "X_train, X_test, y_train, y_test = train_test_split(data, y_label, test_size=0.4,random_state=100)\n",
    "\n",
    "#Criando o Classificador\n",
    "cls = svm.SVC(kernel=\"linear\")\n",
    "#Treinamento\n",
    "cls.fit(X_train,y_train)\n",
    "#Predição\n",
    "pred = cls.predict(X_test)\n",
    "\n",
    "#Métricas de Desempenho\n",
    "#Acurácia\n",
    "print(\"acuracy:\", metrics.accuracy_score(y_test,y_pred=pred))\n",
    "#Precisão\n",
    "print(\"precision:\", metrics.precision_score(y_test,y_pred=pred))\n",
    "#recall score\n",
    "print(\"recall\" , metrics.recall_score(y_test,y_pred=pred))\n",
    "print(metrics.classification_report(y_test, y_pred=pred))"
   ]
  },
  {
   "cell_type": "code",
   "execution_count": null,
   "metadata": {},
   "outputs": [],
   "source": []
  }
 ]
}