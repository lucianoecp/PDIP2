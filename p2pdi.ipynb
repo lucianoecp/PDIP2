{
 "metadata": {
  "language_info": {
   "codemirror_mode": {
    "name": "ipython",
    "version": 3
   },
   "file_extension": ".py",
   "mimetype": "text/x-python",
   "name": "python",
   "nbconvert_exporter": "python",
   "pygments_lexer": "ipython3",
   "version": "3.8.5-final"
  },
  "orig_nbformat": 2,
  "kernelspec": {
   "name": "python3",
   "display_name": "Python 3"
  }
 },
 "nbformat": 4,
 "nbformat_minor": 2,
 "cells": [
  {
   "source": [
    "UNIVERSIDADE ESTADUAL DO MARANHÃO\n",
    "\n",
    "CURSO DE ENGENHARIA DA COMPUTAÇÃO - BACHARELADO\n",
    "\n",
    "PROCESSAMENTO DIGITAL DE IMAGENS E RECONHECIMENTO DE PADRÕES\n",
    "\n",
    "PROF. DR. LUCIO FLAVIO DE ALBUQUERQUE CAMPOS\n",
    "\n",
    "AUTORES:    \n",
    ">JULIO VICTOR CASTRO CARVALHO DE ARAUJO\n",
    "\n",
    ">LUCIANO SILVA DE ARRUDA\n",
    "\n",
    "\n",
    "\n",
    "\n",
    "#### SEGUNDA AVALIAÇÃO (01/03/2021)"
   ],
   "cell_type": "markdown",
   "metadata": {}
  },
  {
   "source": [
    "[01.] Elabore um algoritmo de detecção de círculos utilizando a Tranformada de Hough. A\n",
    "imagem (autoral) de entrada deve possuir no mínimo 5 objetos circulares, de diâmetros\n",
    "diferentes.\n"
   ],
   "cell_type": "markdown",
   "metadata": {}
  },
  {
   "cell_type": "code",
   "execution_count": 1,
   "metadata": {},
   "outputs": [
    {
     "output_type": "display_data",
     "data": {
      "text/plain": "<Figure size 432x288 with 1 Axes>",
      "image/svg+xml": "<?xml version=\"1.0\" encoding=\"utf-8\" standalone=\"no\"?>\r\n<!DOCTYPE svg PUBLIC \"-//W3C//DTD SVG 1.1//EN\"\r\n  \"http://www.w3.org/Graphics/SVG/1.1/DTD/svg11.dtd\">\r\n<!-- Created with matplotlib (https://matplotlib.org/) -->\r\n<svg height=\"252.116753pt\" version=\"1.1\" viewBox=\"0 0 271.166467 252.116753\" width=\"271.166467pt\" xmlns=\"http://www.w3.org/2000/svg\" xmlns:xlink=\"http://www.w3.org/1999/xlink\">\r\n <metadata>\r\n  <rdf:RDF xmlns:cc=\"http://creativecommons.org/ns#\" xmlns:dc=\"http://purl.org/dc/elements/1.1/\" xmlns:rdf=\"http://www.w3.org/1999/02/22-rdf-syntax-ns#\">\r\n   <cc:Work>\r\n    <dc:type rdf:resource=\"http://purl.org/dc/dcmitype/StillImage\"/>\r\n    <dc:date>2021-03-01T23:03:10.083451</dc:date>\r\n    <dc:format>image/svg+xml</dc:format>\r\n    <dc:creator>\r\n     <cc:Agent>\r\n      <dc:title>Matplotlib v3.3.2, https://matplotlib.org/</dc:title>\r\n     </cc:Agent>\r\n    </dc:creator>\r\n   </cc:Work>\r\n  </rdf:RDF>\r\n </metadata>\r\n <defs>\r\n  <style type=\"text/css\">*{stroke-linecap:butt;stroke-linejoin:round;}</style>\r\n </defs>\r\n <g id=\"figure_1\">\r\n  <g id=\"patch_1\">\r\n   <path d=\"M 0 252.116753 \r\nL 271.166467 252.116753 \r\nL 271.166467 0 \r\nL 0 0 \r\nz\r\n\" style=\"fill:none;\"/>\r\n  </g>\r\n  <g id=\"axes_1\">\r\n   <g id=\"patch_2\">\r\n    <path d=\"M 33.2875 228.238628 \r\nL 263.966467 228.238628 \r\nL 263.966467 10.798628 \r\nL 33.2875 10.798628 \r\nz\r\n\" style=\"fill:#ffffff;\"/>\r\n   </g>\r\n   <g clip-path=\"url(#p4683965717)\">\r\n    <image height=\"218\" id=\"imagec988f67124\" transform=\"scale(1 -1)translate(0 -218)\" width=\"231\" x=\"33.2875\" xlink:href=\"data:image/png;base64,\r\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\" y=\"-10.238628\"/>\r\n   </g>\r\n   <g id=\"matplotlib.axis_1\">\r\n    <g id=\"xtick_1\">\r\n     <g id=\"line2d_1\">\r\n      <defs>\r\n       <path d=\"M 0 0 \r\nL 0 3.5 \r\n\" id=\"m11e5c32770\" style=\"stroke:#000000;stroke-width:0.8;\"/>\r\n      </defs>\r\n      <g>\r\n       <use style=\"stroke:#000000;stroke-width:0.8;\" x=\"33.48809\" xlink:href=\"#m11e5c32770\" y=\"228.238628\"/>\r\n      </g>\r\n     </g>\r\n     <g id=\"text_1\">\r\n      <!-- 0 -->\r\n      <g transform=\"translate(30.30684 242.837066)scale(0.1 -0.1)\">\r\n       <defs>\r\n        <path d=\"M 31.78125 66.40625 \r\nQ 24.171875 66.40625 20.328125 58.90625 \r\nQ 16.5 51.421875 16.5 36.375 \r\nQ 16.5 21.390625 20.328125 13.890625 \r\nQ 24.171875 6.390625 31.78125 6.390625 \r\nQ 39.453125 6.390625 43.28125 13.890625 \r\nQ 47.125 21.390625 47.125 36.375 \r\nQ 47.125 51.421875 43.28125 58.90625 \r\nQ 39.453125 66.40625 31.78125 66.40625 \r\nz\r\nM 31.78125 74.21875 \r\nQ 44.046875 74.21875 50.515625 64.515625 \r\nQ 56.984375 54.828125 56.984375 36.375 \r\nQ 56.984375 17.96875 50.515625 8.265625 \r\nQ 44.046875 -1.421875 31.78125 -1.421875 \r\nQ 19.53125 -1.421875 13.0625 8.265625 \r\nQ 6.59375 17.96875 6.59375 36.375 \r\nQ 6.59375 54.828125 13.0625 64.515625 \r\nQ 19.53125 74.21875 31.78125 74.21875 \r\nz\r\n\" id=\"DejaVuSans-48\"/>\r\n       </defs>\r\n       <use xlink:href=\"#DejaVuSans-48\"/>\r\n      </g>\r\n     </g>\r\n    </g>\r\n    <g id=\"xtick_2\">\r\n     <g id=\"line2d_2\">\r\n      <g>\r\n       <use style=\"stroke:#000000;stroke-width:0.8;\" x=\"73.606172\" xlink:href=\"#m11e5c32770\" y=\"228.238628\"/>\r\n      </g>\r\n     </g>\r\n     <g id=\"text_2\">\r\n      <!-- 100 -->\r\n      <g transform=\"translate(64.062422 242.837066)scale(0.1 -0.1)\">\r\n       <defs>\r\n        <path d=\"M 12.40625 8.296875 \r\nL 28.515625 8.296875 \r\nL 28.515625 63.921875 \r\nL 10.984375 60.40625 \r\nL 10.984375 69.390625 \r\nL 28.421875 72.90625 \r\nL 38.28125 72.90625 \r\nL 38.28125 8.296875 \r\nL 54.390625 8.296875 \r\nL 54.390625 0 \r\nL 12.40625 0 \r\nz\r\n\" id=\"DejaVuSans-49\"/>\r\n       </defs>\r\n       <use xlink:href=\"#DejaVuSans-49\"/>\r\n       <use x=\"63.623047\" xlink:href=\"#DejaVuSans-48\"/>\r\n       <use x=\"127.246094\" xlink:href=\"#DejaVuSans-48\"/>\r\n      </g>\r\n     </g>\r\n    </g>\r\n    <g id=\"xtick_3\">\r\n     <g id=\"line2d_3\">\r\n      <g>\r\n       <use style=\"stroke:#000000;stroke-width:0.8;\" x=\"113.724253\" xlink:href=\"#m11e5c32770\" y=\"228.238628\"/>\r\n      </g>\r\n     </g>\r\n     <g id=\"text_3\">\r\n      <!-- 200 -->\r\n      <g transform=\"translate(104.180503 242.837066)scale(0.1 -0.1)\">\r\n       <defs>\r\n        <path d=\"M 19.1875 8.296875 \r\nL 53.609375 8.296875 \r\nL 53.609375 0 \r\nL 7.328125 0 \r\nL 7.328125 8.296875 \r\nQ 12.9375 14.109375 22.625 23.890625 \r\nQ 32.328125 33.6875 34.8125 36.53125 \r\nQ 39.546875 41.84375 41.421875 45.53125 \r\nQ 43.3125 49.21875 43.3125 52.78125 \r\nQ 43.3125 58.59375 39.234375 62.25 \r\nQ 35.15625 65.921875 28.609375 65.921875 \r\nQ 23.96875 65.921875 18.8125 64.3125 \r\nQ 13.671875 62.703125 7.8125 59.421875 \r\nL 7.8125 69.390625 \r\nQ 13.765625 71.78125 18.9375 73 \r\nQ 24.125 74.21875 28.421875 74.21875 \r\nQ 39.75 74.21875 46.484375 68.546875 \r\nQ 53.21875 62.890625 53.21875 53.421875 \r\nQ 53.21875 48.921875 51.53125 44.890625 \r\nQ 49.859375 40.875 45.40625 35.40625 \r\nQ 44.1875 33.984375 37.640625 27.21875 \r\nQ 31.109375 20.453125 19.1875 8.296875 \r\nz\r\n\" id=\"DejaVuSans-50\"/>\r\n       </defs>\r\n       <use xlink:href=\"#DejaVuSans-50\"/>\r\n       <use x=\"63.623047\" xlink:href=\"#DejaVuSans-48\"/>\r\n       <use x=\"127.246094\" xlink:href=\"#DejaVuSans-48\"/>\r\n      </g>\r\n     </g>\r\n    </g>\r\n    <g id=\"xtick_4\">\r\n     <g id=\"line2d_4\">\r\n      <g>\r\n       <use style=\"stroke:#000000;stroke-width:0.8;\" x=\"153.842334\" xlink:href=\"#m11e5c32770\" y=\"228.238628\"/>\r\n      </g>\r\n     </g>\r\n     <g id=\"text_4\">\r\n      <!-- 300 -->\r\n      <g transform=\"translate(144.298584 242.837066)scale(0.1 -0.1)\">\r\n       <defs>\r\n        <path d=\"M 40.578125 39.3125 \r\nQ 47.65625 37.796875 51.625 33 \r\nQ 55.609375 28.21875 55.609375 21.1875 \r\nQ 55.609375 10.40625 48.1875 4.484375 \r\nQ 40.765625 -1.421875 27.09375 -1.421875 \r\nQ 22.515625 -1.421875 17.65625 -0.515625 \r\nQ 12.796875 0.390625 7.625 2.203125 \r\nL 7.625 11.71875 \r\nQ 11.71875 9.328125 16.59375 8.109375 \r\nQ 21.484375 6.890625 26.8125 6.890625 \r\nQ 36.078125 6.890625 40.9375 10.546875 \r\nQ 45.796875 14.203125 45.796875 21.1875 \r\nQ 45.796875 27.640625 41.28125 31.265625 \r\nQ 36.765625 34.90625 28.71875 34.90625 \r\nL 20.21875 34.90625 \r\nL 20.21875 43.015625 \r\nL 29.109375 43.015625 \r\nQ 36.375 43.015625 40.234375 45.921875 \r\nQ 44.09375 48.828125 44.09375 54.296875 \r\nQ 44.09375 59.90625 40.109375 62.90625 \r\nQ 36.140625 65.921875 28.71875 65.921875 \r\nQ 24.65625 65.921875 20.015625 65.03125 \r\nQ 15.375 64.15625 9.8125 62.3125 \r\nL 9.8125 71.09375 \r\nQ 15.4375 72.65625 20.34375 73.4375 \r\nQ 25.25 74.21875 29.59375 74.21875 \r\nQ 40.828125 74.21875 47.359375 69.109375 \r\nQ 53.90625 64.015625 53.90625 55.328125 \r\nQ 53.90625 49.265625 50.4375 45.09375 \r\nQ 46.96875 40.921875 40.578125 39.3125 \r\nz\r\n\" id=\"DejaVuSans-51\"/>\r\n       </defs>\r\n       <use xlink:href=\"#DejaVuSans-51\"/>\r\n       <use x=\"63.623047\" xlink:href=\"#DejaVuSans-48\"/>\r\n       <use x=\"127.246094\" xlink:href=\"#DejaVuSans-48\"/>\r\n      </g>\r\n     </g>\r\n    </g>\r\n    <g id=\"xtick_5\">\r\n     <g id=\"line2d_5\">\r\n      <g>\r\n       <use style=\"stroke:#000000;stroke-width:0.8;\" x=\"193.960415\" xlink:href=\"#m11e5c32770\" y=\"228.238628\"/>\r\n      </g>\r\n     </g>\r\n     <g id=\"text_5\">\r\n      <!-- 400 -->\r\n      <g transform=\"translate(184.416665 242.837066)scale(0.1 -0.1)\">\r\n       <defs>\r\n        <path d=\"M 37.796875 64.3125 \r\nL 12.890625 25.390625 \r\nL 37.796875 25.390625 \r\nz\r\nM 35.203125 72.90625 \r\nL 47.609375 72.90625 \r\nL 47.609375 25.390625 \r\nL 58.015625 25.390625 \r\nL 58.015625 17.1875 \r\nL 47.609375 17.1875 \r\nL 47.609375 0 \r\nL 37.796875 0 \r\nL 37.796875 17.1875 \r\nL 4.890625 17.1875 \r\nL 4.890625 26.703125 \r\nz\r\n\" id=\"DejaVuSans-52\"/>\r\n       </defs>\r\n       <use xlink:href=\"#DejaVuSans-52\"/>\r\n       <use x=\"63.623047\" xlink:href=\"#DejaVuSans-48\"/>\r\n       <use x=\"127.246094\" xlink:href=\"#DejaVuSans-48\"/>\r\n      </g>\r\n     </g>\r\n    </g>\r\n    <g id=\"xtick_6\">\r\n     <g id=\"line2d_6\">\r\n      <g>\r\n       <use style=\"stroke:#000000;stroke-width:0.8;\" x=\"234.078496\" xlink:href=\"#m11e5c32770\" y=\"228.238628\"/>\r\n      </g>\r\n     </g>\r\n     <g id=\"text_6\">\r\n      <!-- 500 -->\r\n      <g transform=\"translate(224.534746 242.837066)scale(0.1 -0.1)\">\r\n       <defs>\r\n        <path d=\"M 10.796875 72.90625 \r\nL 49.515625 72.90625 \r\nL 49.515625 64.59375 \r\nL 19.828125 64.59375 \r\nL 19.828125 46.734375 \r\nQ 21.96875 47.46875 24.109375 47.828125 \r\nQ 26.265625 48.1875 28.421875 48.1875 \r\nQ 40.625 48.1875 47.75 41.5 \r\nQ 54.890625 34.8125 54.890625 23.390625 \r\nQ 54.890625 11.625 47.5625 5.09375 \r\nQ 40.234375 -1.421875 26.90625 -1.421875 \r\nQ 22.3125 -1.421875 17.546875 -0.640625 \r\nQ 12.796875 0.140625 7.71875 1.703125 \r\nL 7.71875 11.625 \r\nQ 12.109375 9.234375 16.796875 8.0625 \r\nQ 21.484375 6.890625 26.703125 6.890625 \r\nQ 35.15625 6.890625 40.078125 11.328125 \r\nQ 45.015625 15.765625 45.015625 23.390625 \r\nQ 45.015625 31 40.078125 35.4375 \r\nQ 35.15625 39.890625 26.703125 39.890625 \r\nQ 22.75 39.890625 18.8125 39.015625 \r\nQ 14.890625 38.140625 10.796875 36.28125 \r\nz\r\n\" id=\"DejaVuSans-53\"/>\r\n       </defs>\r\n       <use xlink:href=\"#DejaVuSans-53\"/>\r\n       <use x=\"63.623047\" xlink:href=\"#DejaVuSans-48\"/>\r\n       <use x=\"127.246094\" xlink:href=\"#DejaVuSans-48\"/>\r\n      </g>\r\n     </g>\r\n    </g>\r\n   </g>\r\n   <g id=\"matplotlib.axis_2\">\r\n    <g id=\"ytick_1\">\r\n     <g id=\"line2d_7\">\r\n      <defs>\r\n       <path d=\"M 0 0 \r\nL -3.5 0 \r\n\" id=\"m82ef698051\" style=\"stroke:#000000;stroke-width:0.8;\"/>\r\n      </defs>\r\n      <g>\r\n       <use style=\"stroke:#000000;stroke-width:0.8;\" x=\"33.2875\" xlink:href=\"#m82ef698051\" y=\"10.999219\"/>\r\n      </g>\r\n     </g>\r\n     <g id=\"text_7\">\r\n      <!-- 0 -->\r\n      <g transform=\"translate(19.925 14.798437)scale(0.1 -0.1)\">\r\n       <use xlink:href=\"#DejaVuSans-48\"/>\r\n      </g>\r\n     </g>\r\n    </g>\r\n    <g id=\"ytick_2\">\r\n     <g id=\"line2d_8\">\r\n      <g>\r\n       <use style=\"stroke:#000000;stroke-width:0.8;\" x=\"33.2875\" xlink:href=\"#m82ef698051\" y=\"51.1173\"/>\r\n      </g>\r\n     </g>\r\n     <g id=\"text_8\">\r\n      <!-- 100 -->\r\n      <g transform=\"translate(7.2 54.916519)scale(0.1 -0.1)\">\r\n       <use xlink:href=\"#DejaVuSans-49\"/>\r\n       <use x=\"63.623047\" xlink:href=\"#DejaVuSans-48\"/>\r\n       <use x=\"127.246094\" xlink:href=\"#DejaVuSans-48\"/>\r\n      </g>\r\n     </g>\r\n    </g>\r\n    <g id=\"ytick_3\">\r\n     <g id=\"line2d_9\">\r\n      <g>\r\n       <use style=\"stroke:#000000;stroke-width:0.8;\" x=\"33.2875\" xlink:href=\"#m82ef698051\" y=\"91.235381\"/>\r\n      </g>\r\n     </g>\r\n     <g id=\"text_9\">\r\n      <!-- 200 -->\r\n      <g transform=\"translate(7.2 95.0346)scale(0.1 -0.1)\">\r\n       <use xlink:href=\"#DejaVuSans-50\"/>\r\n       <use x=\"63.623047\" xlink:href=\"#DejaVuSans-48\"/>\r\n       <use x=\"127.246094\" xlink:href=\"#DejaVuSans-48\"/>\r\n      </g>\r\n     </g>\r\n    </g>\r\n    <g id=\"ytick_4\">\r\n     <g id=\"line2d_10\">\r\n      <g>\r\n       <use style=\"stroke:#000000;stroke-width:0.8;\" x=\"33.2875\" xlink:href=\"#m82ef698051\" y=\"131.353462\"/>\r\n      </g>\r\n     </g>\r\n     <g id=\"text_10\">\r\n      <!-- 300 -->\r\n      <g transform=\"translate(7.2 135.152681)scale(0.1 -0.1)\">\r\n       <use xlink:href=\"#DejaVuSans-51\"/>\r\n       <use x=\"63.623047\" xlink:href=\"#DejaVuSans-48\"/>\r\n       <use x=\"127.246094\" xlink:href=\"#DejaVuSans-48\"/>\r\n      </g>\r\n     </g>\r\n    </g>\r\n    <g id=\"ytick_5\">\r\n     <g id=\"line2d_11\">\r\n      <g>\r\n       <use style=\"stroke:#000000;stroke-width:0.8;\" x=\"33.2875\" xlink:href=\"#m82ef698051\" y=\"171.471543\"/>\r\n      </g>\r\n     </g>\r\n     <g id=\"text_11\">\r\n      <!-- 400 -->\r\n      <g transform=\"translate(7.2 175.270762)scale(0.1 -0.1)\">\r\n       <use xlink:href=\"#DejaVuSans-52\"/>\r\n       <use x=\"63.623047\" xlink:href=\"#DejaVuSans-48\"/>\r\n       <use x=\"127.246094\" xlink:href=\"#DejaVuSans-48\"/>\r\n      </g>\r\n     </g>\r\n    </g>\r\n    <g id=\"ytick_6\">\r\n     <g id=\"line2d_12\">\r\n      <g>\r\n       <use style=\"stroke:#000000;stroke-width:0.8;\" x=\"33.2875\" xlink:href=\"#m82ef698051\" y=\"211.589625\"/>\r\n      </g>\r\n     </g>\r\n     <g id=\"text_12\">\r\n      <!-- 500 -->\r\n      <g transform=\"translate(7.2 215.388843)scale(0.1 -0.1)\">\r\n       <use xlink:href=\"#DejaVuSans-53\"/>\r\n       <use x=\"63.623047\" xlink:href=\"#DejaVuSans-48\"/>\r\n       <use x=\"127.246094\" xlink:href=\"#DejaVuSans-48\"/>\r\n      </g>\r\n     </g>\r\n    </g>\r\n   </g>\r\n   <g id=\"patch_3\">\r\n    <path d=\"M 33.2875 228.238628 \r\nL 33.2875 10.798628 \r\n\" style=\"fill:none;stroke:#000000;stroke-linecap:square;stroke-linejoin:miter;stroke-width:0.8;\"/>\r\n   </g>\r\n   <g id=\"patch_4\">\r\n    <path d=\"M 263.966467 228.238628 \r\nL 263.966467 10.798628 \r\n\" style=\"fill:none;stroke:#000000;stroke-linecap:square;stroke-linejoin:miter;stroke-width:0.8;\"/>\r\n   </g>\r\n   <g id=\"patch_5\">\r\n    <path d=\"M 33.2875 228.238628 \r\nL 263.966467 228.238628 \r\n\" style=\"fill:none;stroke:#000000;stroke-linecap:square;stroke-linejoin:miter;stroke-width:0.8;\"/>\r\n   </g>\r\n   <g id=\"patch_6\">\r\n    <path d=\"M 33.2875 10.798628 \r\nL 263.966467 10.798628 \r\n\" style=\"fill:none;stroke:#000000;stroke-linecap:square;stroke-linejoin:miter;stroke-width:0.8;\"/>\r\n   </g>\r\n  </g>\r\n </g>\r\n <defs>\r\n  <clipPath id=\"p4683965717\">\r\n   <rect height=\"217.44\" width=\"230.678967\" x=\"33.2875\" y=\"10.798628\"/>\r\n  </clipPath>\r\n </defs>\r\n</svg>\r\n",
      "image/png": "[encoded data removed]"
     },
     "metadata": {
      "needs_background": "light"
     }
    }
   ],
   "source": [
    "# Pacotes utilizados:\n",
    "import os\n",
    "import cv2\n",
    "import numpy as np\n",
    "from matplotlib import pyplot as plt\n",
    "\n",
    "img = cv2.imread('teste\\\\BouncingBalls.png') \n",
    " \n",
    "gray = cv2.cvtColor(img, cv2.COLOR_BGR2GRAY)\n",
    "\n",
    "gray_blurred = cv2.blur(gray, (3, 3))\n",
    "\n",
    "detected_circles = cv2.HoughCircles(gray_blurred, \n",
    "\t\t\t\tcv2.HOUGH_GRADIENT, 1, 20, param1 = 50, \n",
    "\t\t\tparam2 = 30, minRadius = 1, maxRadius = 50) \n",
    "\n",
    "if detected_circles is not None: \n",
    "\n",
    "    detected_circles = np.uint16(np.around(detected_circles)) \n",
    "    \n",
    "    for pt in detected_circles[0, :]: \n",
    "        a, b, r = pt[0], pt[1], pt[2] \n",
    "\n",
    "        cv2.circle(img, (a, b), r, (0, 255, 0), 2) \n",
    "\n",
    "        cv2.circle(img, (a, b), 1, (0, 0, 255), 3)\n",
    "\n",
    "plt.imshow(cv2.cvtColor(img, cv2.COLOR_BGR2RGB))\n",
    "plt.show()\n"
   ]
  },
  {
   "source": [
    "[02.] Elabora um algoritmo de classificação de frutas (apenas duas), através dos momentos\n",
    "inerciais e de máquinas de vetores de suporte, com no mínimo, 75% de acurácia. Os\n",
    "passos para a determinada tarefa são os seguintes:\n",
    "\n",
    "> [a.] Fazer um banco de 100 imagens (50 de cada fruta);\n",
    "\n",
    "> [b.] Extrair apenas o canal verde, e calcular os 24 momentos inerciais;\n",
    "\n",
    "> [c.] Gerar uma matriz, de dimensão 100x25, onde o numero de linhas é o número de amostras, e o numero de colunas, o numero de carateristicas (24) e o rótulo (1);  \n",
    "\n",
    "> [d.] Usar o classificador SVM em anexo, para realizar a classificação, e a métrica de\n",
    "desempenho.\n"
   ],
   "cell_type": "markdown",
   "metadata": {}
  },
  {
   "cell_type": "code",
   "execution_count": 2,
   "metadata": {},
   "outputs": [
    {
     "output_type": "execute_result",
     "data": {
      "text/plain": [
       "100"
      ]
     },
     "metadata": {},
     "execution_count": 2
    }
   ],
   "source": [
    "dir = 'C:\\\\projetos\\\\PDI'\n",
    "\n",
    "frutas = ['morango', 'cacau']\n",
    "\n",
    "x_image = []\n",
    "y_label = []\n",
    "Mm = []\n",
    "\n",
    "def preprocessamento(img, tam=150):\n",
    "    b,g,r = cv2.split(img)\n",
    "    resized = cv2.resize(g, (tam, tam))\n",
    "\n",
    "    return resized\n",
    "\n",
    "\n",
    "for fruta in frutas:\n",
    "    filepath = os.path.join(dir, fruta)\n",
    "    for file in os.listdir(filepath):\n",
    "        filename = os.path.join(filepath, file)\n",
    "        #print(filename)\n",
    "        image = cv2.imread(filename)\n",
    "        prep  = preprocessamento(image, 50)\n",
    "        DM = (cv2.moments(prep))\n",
    "        M  = [momento for momento in DM.items()]\n",
    "        Mm.append(DM)\n",
    "        #print(M.shape)\n",
    "        x_image.append(M)\n",
    "        y_label.append(frutas.index(fruta))\n",
    "        continue\n",
    "    continue\n",
    "    break\n",
    "x_image_n = np.array(x_image)\n",
    "len(x_image)"
   ]
  },
  {
   "cell_type": "code",
   "execution_count": 3,
   "metadata": {},
   "outputs": [
    {
     "output_type": "stream",
     "name": "stdout",
     "text": [
      "(100, 25)\n<class 'numpy.ndarray'>\n(100, 25)\n<class 'numpy.ndarray'>\n"
     ]
    },
    {
     "output_type": "execute_result",
     "data": {
      "text/plain": [
       "      0         1           2           3            4            5   \\\n",
       "0    0.0  485058.0  12154520.0  11443469.0  423839452.0  289608193.0   \n",
       "1    1.0  451550.0  11163161.0  10611170.0  392078201.0  258925596.0   \n",
       "2    2.0  393358.0   9304482.0   9223605.0  318429398.0  216919156.0   \n",
       "3    3.0  391152.0   9469963.0   9199863.0  325242215.0  223167425.0   \n",
       "4    4.0  484004.0  11790887.0  11051792.0  406074983.0  265649084.0   \n",
       "..   ...       ...         ...         ...          ...          ...   \n",
       "95  95.0  224103.0   5441765.0   5341350.0  174917087.0  129748210.0   \n",
       "96  96.0  493944.0  11962772.0  12002533.0  396978706.0  289272025.0   \n",
       "97  97.0  215500.0   5852663.0   4970712.0  200825093.0  137328578.0   \n",
       "98  98.0  255967.0   6543395.0   5798433.0  221154839.0  151023978.0   \n",
       "99  99.0  458445.0  11276888.0  10940216.0  392983266.0  266006813.0   \n",
       "\n",
       "             6             7             8             9   ...            15  \\\n",
       "0   387857071.0  1.645898e+10  1.020350e+10  9.826232e+09  ...  6.100008e+07   \n",
       "1   364753766.0  1.537654e+10  9.168820e+09  8.834225e+09  ...  1.234306e+08   \n",
       "2   330924287.0  1.230780e+10  7.443239e+09  7.834226e+09  ...  3.599700e+07   \n",
       "3   322567193.0  1.257612e+10  7.743176e+09  7.797635e+09  ...  7.245846e+07   \n",
       "4   371605798.0  1.572060e+10  9.220529e+09  8.856904e+09  ...  1.228501e+08   \n",
       "..          ...           ...           ...           ...  ...           ...   \n",
       "95  173416404.0  6.354755e+09  4.167781e+09  4.207241e+09  ... -3.549466e+06   \n",
       "96  403437355.0  1.487022e+10  9.588661e+09  9.709685e+09  ...  1.090879e+07   \n",
       "97  160636448.0  7.547088e+09  4.737915e+09  4.416452e+09  ... -2.093807e+07   \n",
       "98  187768285.0  8.376248e+09  5.105059e+09  4.959749e+09  ... -4.772971e+07   \n",
       "99  378900592.0  1.532566e+10  9.282756e+09  9.159945e+09  ...  5.730900e+07   \n",
       "\n",
       "              16            17        18            19        20  \\\n",
       "0  -2.754972e+07  2.575351e+08  0.000507  1.215244e-05  0.000501   \n",
       "1  -2.326201e+07  2.218069e+08  0.000569 -1.668674e-05  0.000566   \n",
       "2   6.544344e+07  2.923738e+08  0.000636 -8.116085e-06  0.000741   \n",
       "3  -3.230606e+07  1.189245e+08  0.000627  2.840989e-06  0.000694   \n",
       "4  -3.210902e+07  4.539115e+08  0.000507 -1.530402e-05  0.000509   \n",
       "..           ...           ...       ...           ...       ...   \n",
       "95 -5.983502e+06  2.980449e+07  0.000852  9.410647e-07  0.000918   \n",
       "96  7.694608e+06  3.164127e+07  0.000440 -5.803405e-06  0.000458   \n",
       "97 -5.374711e+07  4.827775e+07  0.000902  5.020111e-05  0.000990   \n",
       "98  3.306517e+07  1.188406e+08  0.000822  4.267656e-05  0.000861   \n",
       "99 -1.224891e+07  1.651597e+08  0.000550 -1.475936e-05  0.000561   \n",
       "\n",
       "              21            22            23            24  \n",
       "0  -8.481868e-07  3.722599e-07 -1.681253e-07  1.571637e-06  \n",
       "1  -4.159191e-07  9.008620e-07 -1.697785e-07  1.618865e-06  \n",
       "2   1.271025e-06  3.709337e-07  6.743668e-07  3.012788e-06  \n",
       "3   5.736784e-07  7.572254e-07 -3.376138e-07  1.242818e-06  \n",
       "4   2.344907e-07  7.537950e-07 -1.970175e-07  2.785151e-06  \n",
       "..           ...           ...           ...           ...  \n",
       "95  1.255324e-06 -1.492945e-07 -2.516728e-07  1.253610e-06  \n",
       "96  3.540497e-07  6.361835e-08  4.487374e-08  1.845268e-07  \n",
       "97 -8.422375e-06 -9.712219e-07 -2.493084e-06  2.239385e-06  \n",
       "98 -9.686208e-07 -1.439888e-06  9.974952e-07  3.585130e-06  \n",
       "99 -1.948659e-07  4.027214e-07 -8.607545e-08  1.160609e-06  \n",
       "\n",
       "[100 rows x 25 columns]"
      ],
      "text/html": "<div>\n<style scoped>\n    .dataframe tbody tr th:only-of-type {\n        vertical-align: middle;\n    }\n\n    .dataframe tbody tr th {\n        vertical-align: top;\n    }\n\n    .dataframe thead th {\n        text-align: right;\n    }\n</style>\n<table border=\"1\" class=\"dataframe\">\n  <thead>\n    <tr style=\"text-align: right;\">\n      <th></th>\n      <th>0</th>\n      <th>1</th>\n      <th>2</th>\n      <th>3</th>\n      <th>4</th>\n      <th>5</th>\n      <th>6</th>\n      <th>7</th>\n      <th>8</th>\n      <th>9</th>\n      <th>...</th>\n      <th>15</th>\n      <th>16</th>\n      <th>17</th>\n      <th>18</th>\n      <th>19</th>\n      <th>20</th>\n      <th>21</th>\n      <th>22</th>\n      <th>23</th>\n      <th>24</th>\n    </tr>\n  </thead>\n  <tbody>\n    <tr>\n      <th>0</th>\n      <td>0.0</td>\n      <td>485058.0</td>\n      <td>12154520.0</td>\n      <td>11443469.0</td>\n      <td>423839452.0</td>\n      <td>289608193.0</td>\n      <td>387857071.0</td>\n      <td>1.645898e+10</td>\n      <td>1.020350e+10</td>\n      <td>9.826232e+09</td>\n      <td>...</td>\n      <td>6.100008e+07</td>\n      <td>-2.754972e+07</td>\n      <td>2.575351e+08</td>\n      <td>0.000507</td>\n      <td>1.215244e-05</td>\n      <td>0.000501</td>\n      <td>-8.481868e-07</td>\n      <td>3.722599e-07</td>\n      <td>-1.681253e-07</td>\n      <td>1.571637e-06</td>\n    </tr>\n    <tr>\n      <th>1</th>\n      <td>1.0</td>\n      <td>451550.0</td>\n      <td>11163161.0</td>\n      <td>10611170.0</td>\n      <td>392078201.0</td>\n      <td>258925596.0</td>\n      <td>364753766.0</td>\n      <td>1.537654e+10</td>\n      <td>9.168820e+09</td>\n      <td>8.834225e+09</td>\n      <td>...</td>\n      <td>1.234306e+08</td>\n      <td>-2.326201e+07</td>\n      <td>2.218069e+08</td>\n      <td>0.000569</td>\n      <td>-1.668674e-05</td>\n      <td>0.000566</td>\n      <td>-4.159191e-07</td>\n      <td>9.008620e-07</td>\n      <td>-1.697785e-07</td>\n      <td>1.618865e-06</td>\n    </tr>\n    <tr>\n      <th>2</th>\n      <td>2.0</td>\n      <td>393358.0</td>\n      <td>9304482.0</td>\n      <td>9223605.0</td>\n      <td>318429398.0</td>\n      <td>216919156.0</td>\n      <td>330924287.0</td>\n      <td>1.230780e+10</td>\n      <td>7.443239e+09</td>\n      <td>7.834226e+09</td>\n      <td>...</td>\n      <td>3.599700e+07</td>\n      <td>6.544344e+07</td>\n      <td>2.923738e+08</td>\n      <td>0.000636</td>\n      <td>-8.116085e-06</td>\n      <td>0.000741</td>\n      <td>1.271025e-06</td>\n      <td>3.709337e-07</td>\n      <td>6.743668e-07</td>\n      <td>3.012788e-06</td>\n    </tr>\n    <tr>\n      <th>3</th>\n      <td>3.0</td>\n      <td>391152.0</td>\n      <td>9469963.0</td>\n      <td>9199863.0</td>\n      <td>325242215.0</td>\n      <td>223167425.0</td>\n      <td>322567193.0</td>\n      <td>1.257612e+10</td>\n      <td>7.743176e+09</td>\n      <td>7.797635e+09</td>\n      <td>...</td>\n      <td>7.245846e+07</td>\n      <td>-3.230606e+07</td>\n      <td>1.189245e+08</td>\n      <td>0.000627</td>\n      <td>2.840989e-06</td>\n      <td>0.000694</td>\n      <td>5.736784e-07</td>\n      <td>7.572254e-07</td>\n      <td>-3.376138e-07</td>\n      <td>1.242818e-06</td>\n    </tr>\n    <tr>\n      <th>4</th>\n      <td>4.0</td>\n      <td>484004.0</td>\n      <td>11790887.0</td>\n      <td>11051792.0</td>\n      <td>406074983.0</td>\n      <td>265649084.0</td>\n      <td>371605798.0</td>\n      <td>1.572060e+10</td>\n      <td>9.220529e+09</td>\n      <td>8.856904e+09</td>\n      <td>...</td>\n      <td>1.228501e+08</td>\n      <td>-3.210902e+07</td>\n      <td>4.539115e+08</td>\n      <td>0.000507</td>\n      <td>-1.530402e-05</td>\n      <td>0.000509</td>\n      <td>2.344907e-07</td>\n      <td>7.537950e-07</td>\n      <td>-1.970175e-07</td>\n      <td>2.785151e-06</td>\n    </tr>\n    <tr>\n      <th>...</th>\n      <td>...</td>\n      <td>...</td>\n      <td>...</td>\n      <td>...</td>\n      <td>...</td>\n      <td>...</td>\n      <td>...</td>\n      <td>...</td>\n      <td>...</td>\n      <td>...</td>\n      <td>...</td>\n      <td>...</td>\n      <td>...</td>\n      <td>...</td>\n      <td>...</td>\n      <td>...</td>\n      <td>...</td>\n      <td>...</td>\n      <td>...</td>\n      <td>...</td>\n      <td>...</td>\n    </tr>\n    <tr>\n      <th>95</th>\n      <td>95.0</td>\n      <td>224103.0</td>\n      <td>5441765.0</td>\n      <td>5341350.0</td>\n      <td>174917087.0</td>\n      <td>129748210.0</td>\n      <td>173416404.0</td>\n      <td>6.354755e+09</td>\n      <td>4.167781e+09</td>\n      <td>4.207241e+09</td>\n      <td>...</td>\n      <td>-3.549466e+06</td>\n      <td>-5.983502e+06</td>\n      <td>2.980449e+07</td>\n      <td>0.000852</td>\n      <td>9.410647e-07</td>\n      <td>0.000918</td>\n      <td>1.255324e-06</td>\n      <td>-1.492945e-07</td>\n      <td>-2.516728e-07</td>\n      <td>1.253610e-06</td>\n    </tr>\n    <tr>\n      <th>96</th>\n      <td>96.0</td>\n      <td>493944.0</td>\n      <td>11962772.0</td>\n      <td>12002533.0</td>\n      <td>396978706.0</td>\n      <td>289272025.0</td>\n      <td>403437355.0</td>\n      <td>1.487022e+10</td>\n      <td>9.588661e+09</td>\n      <td>9.709685e+09</td>\n      <td>...</td>\n      <td>1.090879e+07</td>\n      <td>7.694608e+06</td>\n      <td>3.164127e+07</td>\n      <td>0.000440</td>\n      <td>-5.803405e-06</td>\n      <td>0.000458</td>\n      <td>3.540497e-07</td>\n      <td>6.361835e-08</td>\n      <td>4.487374e-08</td>\n      <td>1.845268e-07</td>\n    </tr>\n    <tr>\n      <th>97</th>\n      <td>97.0</td>\n      <td>215500.0</td>\n      <td>5852663.0</td>\n      <td>4970712.0</td>\n      <td>200825093.0</td>\n      <td>137328578.0</td>\n      <td>160636448.0</td>\n      <td>7.547088e+09</td>\n      <td>4.737915e+09</td>\n      <td>4.416452e+09</td>\n      <td>...</td>\n      <td>-2.093807e+07</td>\n      <td>-5.374711e+07</td>\n      <td>4.827775e+07</td>\n      <td>0.000902</td>\n      <td>5.020111e-05</td>\n      <td>0.000990</td>\n      <td>-8.422375e-06</td>\n      <td>-9.712219e-07</td>\n      <td>-2.493084e-06</td>\n      <td>2.239385e-06</td>\n    </tr>\n    <tr>\n      <th>98</th>\n      <td>98.0</td>\n      <td>255967.0</td>\n      <td>6543395.0</td>\n      <td>5798433.0</td>\n      <td>221154839.0</td>\n      <td>151023978.0</td>\n      <td>187768285.0</td>\n      <td>8.376248e+09</td>\n      <td>5.105059e+09</td>\n      <td>4.959749e+09</td>\n      <td>...</td>\n      <td>-4.772971e+07</td>\n      <td>3.306517e+07</td>\n      <td>1.188406e+08</td>\n      <td>0.000822</td>\n      <td>4.267656e-05</td>\n      <td>0.000861</td>\n      <td>-9.686208e-07</td>\n      <td>-1.439888e-06</td>\n      <td>9.974952e-07</td>\n      <td>3.585130e-06</td>\n    </tr>\n    <tr>\n      <th>99</th>\n      <td>99.0</td>\n      <td>458445.0</td>\n      <td>11276888.0</td>\n      <td>10940216.0</td>\n      <td>392983266.0</td>\n      <td>266006813.0</td>\n      <td>378900592.0</td>\n      <td>1.532566e+10</td>\n      <td>9.282756e+09</td>\n      <td>9.159945e+09</td>\n      <td>...</td>\n      <td>5.730900e+07</td>\n      <td>-1.224891e+07</td>\n      <td>1.651597e+08</td>\n      <td>0.000550</td>\n      <td>-1.475936e-05</td>\n      <td>0.000561</td>\n      <td>-1.948659e-07</td>\n      <td>4.027214e-07</td>\n      <td>-8.607545e-08</td>\n      <td>1.160609e-06</td>\n    </tr>\n  </tbody>\n</table>\n<p>100 rows × 25 columns</p>\n</div>"
     },
     "metadata": {},
     "execution_count": 3
    }
   ],
   "source": [
    "import pandas as pd\n",
    "\n",
    "df = pd.DataFrame(data=Mm)\n",
    "data=df.reset_index().values\n",
    "print(data.shape) \n",
    "print(type(data))\n",
    "\n",
    "#data[:,0] = y_label\n",
    "#data[:,:-1] = data[:,1:]\n",
    "#data[:,-1] = y_label\n",
    "\n",
    "print(data.shape) \n",
    "print(type(data))\n",
    "pd.DataFrame(data)"
   ]
  },
  {
   "cell_type": "code",
   "execution_count": 4,
   "metadata": {},
   "outputs": [
    {
     "output_type": "execute_result",
     "data": {
      "text/plain": [
       "    0\n",
       "0   0\n",
       "1   0\n",
       "2   0\n",
       "3   0\n",
       "4   0\n",
       ".. ..\n",
       "95  1\n",
       "96  1\n",
       "97  1\n",
       "98  1\n",
       "99  1\n",
       "\n",
       "[100 rows x 1 columns]"
      ],
      "text/html": "<div>\n<style scoped>\n    .dataframe tbody tr th:only-of-type {\n        vertical-align: middle;\n    }\n\n    .dataframe tbody tr th {\n        vertical-align: top;\n    }\n\n    .dataframe thead th {\n        text-align: right;\n    }\n</style>\n<table border=\"1\" class=\"dataframe\">\n  <thead>\n    <tr style=\"text-align: right;\">\n      <th></th>\n      <th>0</th>\n    </tr>\n  </thead>\n  <tbody>\n    <tr>\n      <th>0</th>\n      <td>0</td>\n    </tr>\n    <tr>\n      <th>1</th>\n      <td>0</td>\n    </tr>\n    <tr>\n      <th>2</th>\n      <td>0</td>\n    </tr>\n    <tr>\n      <th>3</th>\n      <td>0</td>\n    </tr>\n    <tr>\n      <th>4</th>\n      <td>0</td>\n    </tr>\n    <tr>\n      <th>...</th>\n      <td>...</td>\n    </tr>\n    <tr>\n      <th>95</th>\n      <td>1</td>\n    </tr>\n    <tr>\n      <th>96</th>\n      <td>1</td>\n    </tr>\n    <tr>\n      <th>97</th>\n      <td>1</td>\n    </tr>\n    <tr>\n      <th>98</th>\n      <td>1</td>\n    </tr>\n    <tr>\n      <th>99</th>\n      <td>1</td>\n    </tr>\n  </tbody>\n</table>\n<p>100 rows × 1 columns</p>\n</div>"
     },
     "metadata": {},
     "execution_count": 4
    }
   ],
   "source": [
    "pd.DataFrame(y_label)"
   ]
  },
  {
   "source": [],
   "cell_type": "markdown",
   "metadata": {}
  },
  {
   "cell_type": "code",
   "execution_count": 5,
   "metadata": {},
   "outputs": [],
   "source": [
    "# Pacotes utilizados:\n",
    "from sklearn import datasets\n",
    "from sklearn.model_selection import train_test_split\n",
    "from sklearn import svm\n",
    "from sklearn import metrics\n"
   ]
  },
  {
   "cell_type": "code",
   "execution_count": 6,
   "metadata": {},
   "outputs": [],
   "source": [
    "#Dividindo o Dataset em Treino e teste\n",
    "y_label_n = np.array(y_label)\n",
    "X_train, X_test, y_train, y_test = train_test_split(data, y_label, test_size=0.3,random_state=109)\n",
    "\n",
    "#Criando o Classificador\n",
    "cls = svm.SVC(kernel=\"linear\")\n",
    "\n",
    "#Treinamento\n",
    "cls.fit(X_train, y_train)\n",
    "\n",
    "#Predição\n",
    "pred = cls.predict(X_test)\n",
    "\n",
    "#Métricas de Desempenho\n",
    "#Acurácia\n",
    "print(\"acuracy:\", metrics.accuracy_score(y_test,y_pred=pred))\n",
    "#Precisão\n",
    "print(\"precision:\", metrics.precision_score(y_test,y_pred=pred))\n",
    "#recall score\n",
    "print(\"recall\" , metrics.recall_score(y_test,y_pred=pred))\n",
    "print(metrics.classification_report(y_test, y_pred=pred))"
   ]
  },
  {
   "cell_type": "code",
   "execution_count": 6,
   "metadata": {},
   "outputs": [
    {
     "output_type": "execute_result",
     "data": {
      "text/plain": [
       "numpy.ndarray"
      ]
     },
     "metadata": {},
     "execution_count": 6
    }
   ],
   "source": [
    "type(data)"
   ]
  }
 ]
}
